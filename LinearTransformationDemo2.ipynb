{
  "nbformat": 4,
  "nbformat_minor": 0,
  "metadata": {
    "colab": {
      "name": "LinearTransformationDemo2.ipynb",
      "private_outputs": true,
      "provenance": [],
      "authorship_tag": "ABX9TyOxIoGj7SyMaDNxzrkvzlUl",
      "include_colab_link": true
    },
    "kernelspec": {
      "name": "python3",
      "display_name": "Python 3"
    },
    "language_info": {
      "name": "python"
    }
  },
  "cells": [
    {
      "cell_type": "markdown",
      "metadata": {
        "id": "view-in-github",
        "colab_type": "text"
      },
      "source": [
        "<a href=\"https://colab.research.google.com/github/Jyeiii/Linear-Algebra/blob/main/LinearTransformationDemo2.ipynb\" target=\"_parent\"><img src=\"https://colab.research.google.com/assets/colab-badge.svg\" alt=\"Open In Colab\"/></a>"
      ]
    },
    {
      "cell_type": "code",
      "metadata": {
        "id": "73_8xbDsADL1"
      },
      "source": [
        "import numpy as np\n",
        "A= np.array([[4,3],[-5,9]]) #Creation of matrix A\n",
        "print(A) #to display or print\n",
        "\n",
        "inv_A = np.linalg.inv(A) #to declare and creation of Inverse of A\n",
        "print(inv_A) #to display or print"
      ],
      "execution_count": null,
      "outputs": []
    },
    {
      "cell_type": "code",
      "metadata": {
        "id": "uJpSA_orEWPA"
      },
      "source": [
        "B= np.array([[20],[26]]) #creation of Matrix B\n",
        "print(B)"
      ],
      "execution_count": null,
      "outputs": []
    },
    {
      "cell_type": "code",
      "metadata": {
        "id": "5Pa3yEbIGB8S"
      },
      "source": [
        "X= np.linalg.inv(A).dot(B) #compute for the dot product of Inv of A & value of B\n",
        "print(X)\n"
      ],
      "execution_count": null,
      "outputs": []
    },
    {
      "cell_type": "code",
      "metadata": {
        "id": "ws_GyDjpGfgx"
      },
      "source": [
        "X= np.dot(inv_A,B) #to compute for the dot product of Inv of A and B\n",
        "print(X)"
      ],
      "execution_count": null,
      "outputs": []
    },
    {
      "cell_type": "markdown",
      "metadata": {
        "id": "ovX3XQGeXDTL"
      },
      "source": [
        "YOU TRY !"
      ]
    },
    {
      "cell_type": "code",
      "metadata": {
        "id": "4Io7qJT6JLcp"
      },
      "source": [
        "X = np.array([[4,3,2],[-2,2,3],[3,-5,2]]) #creation of Matrix X\n",
        "y = np.array([[25],[-10],[-4]]) #creation of Matix y\n",
        "\n",
        "inv_X = np.linalg.inv(X) #to Inverse the Matrix X\n",
        "b = np.linalg.inv(X).dot(y) #To get dot product of Inverse of X and y\n",
        "\n",
        "#to print or display\n",
        "print(X)\n",
        "print()\n",
        "print(inv_X)\n",
        "print()\n",
        "print(y)\n",
        "print()\n",
        "print(b)\n",
        "\n",
        "\n"
      ],
      "execution_count": null,
      "outputs": []
    },
    {
      "cell_type": "code",
      "metadata": {
        "id": "cMQ0G6JyMKYM"
      },
      "source": [
        "A= np.array([[20,10],[17,22]]) #creation of Matrix A\n",
        "print(A)\n",
        "inv_A = np.linalg.inv(A) #Inverse of matrix A\n",
        "print(inv_A)"
      ],
      "execution_count": null,
      "outputs": []
    },
    {
      "cell_type": "code",
      "metadata": {
        "id": "xv0WJJbqMiGL"
      },
      "source": [
        "B= np.array([[350],[500]]) #Creation of Matrix B\n",
        "print(B)"
      ],
      "execution_count": null,
      "outputs": []
    },
    {
      "cell_type": "code",
      "metadata": {
        "id": "3TmNwREbMuBz"
      },
      "source": [
        "X = np.dot(inv_A,B) #To get dot product of Inverse of A and B\n",
        "\n",
        "print(X)"
      ],
      "execution_count": null,
      "outputs": []
    },
    {
      "cell_type": "markdown",
      "metadata": {
        "id": "Xg-4iDWDWyFa"
      },
      "source": [
        "To check if the answer is correct "
      ]
    },
    {
      "cell_type": "code",
      "metadata": {
        "id": "_ExYrVqYNp50"
      },
      "source": [
        "B = np.dot(A,X)\n",
        "print(B)"
      ],
      "execution_count": null,
      "outputs": []
    }
  ]
}