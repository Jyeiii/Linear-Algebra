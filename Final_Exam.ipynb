{
  "nbformat": 4,
  "nbformat_minor": 0,
  "metadata": {
    "colab": {
      "name": "Final Exam.ipynb",
      "private_outputs": true,
      "provenance": [],
      "authorship_tag": "ABX9TyOv/0lwn7ahTvhvDB/VD2Yg",
      "include_colab_link": true
    },
    "kernelspec": {
      "name": "python3",
      "display_name": "Python 3"
    },
    "language_info": {
      "name": "python"
    }
  },
  "cells": [
    {
      "cell_type": "markdown",
      "metadata": {
        "id": "view-in-github",
        "colab_type": "text"
      },
      "source": [
        "<a href=\"https://colab.research.google.com/github/Jyeiii/Linear-Algebra/blob/main/Final_Exam.ipynb\" target=\"_parent\"><img src=\"https://colab.research.google.com/assets/colab-badge.svg\" alt=\"Open In Colab\"/></a>"
      ]
    },
    {
      "cell_type": "markdown",
      "source": [
        "Problem 1. Student A, Student B, and Student C have a total of Php 89 cash in their banks. Student A has 6 less than Student C. Student B has 3 times what Student C has. How much does each student have? (30 points)"
      ],
      "metadata": {
        "id": "raZ8ydYoG0Zn"
      }
    },
    {
      "cell_type": "code",
      "source": [
        "import numpy as np\n",
        "eq1 = np.array([[1,1,1],[1,0,4],[0,0,5]])\n",
        "eq2 = np.array([[89],[89],[95]])\n",
        "amt = np.linalg.inv(eq1).dot(eq2)\n",
        "print(amt)"
      ],
      "metadata": {
        "id": "H_1CzB6VG1SY"
      },
      "execution_count": null,
      "outputs": []
    },
    {
      "cell_type": "markdown",
      "source": [
        "Problem 2. Solve each system: (30 points)\n",
        "\n",
        "3x - y + z = 5\n",
        "\n",
        "9x - 3y +3z = 15\n",
        "\n",
        "-12x +4y -4z = -20 "
      ],
      "metadata": {
        "id": "N2xSYtSwG1l-"
      }
    },
    {
      "cell_type": "code",
      "source": [
        "A = np.array([[3,-1,1],[9,-3,3],[-12,4,-4]])\n",
        "print(A)\n",
        "B = np.array([[5],[15],[-20]])\n",
        "print (B)\n",
        "\n",
        "# compute the pseudo inverse of A\n",
        "# computationally intensive for large problems\n",
        "Apinv = np.linalg.pinv(A)\n",
        "\n",
        "# apply the pseudo-inverse to the rhs\n",
        "# vector to obtain the `solution'\n",
        "x = Apinv.dot(B)\n",
        "print(x)"
      ],
      "metadata": {
        "id": "8BRmgl9-G6MB"
      },
      "execution_count": null,
      "outputs": []
    },
    {
      "cell_type": "markdown",
      "source": [
        "Find the eigenvalue/s\n",
        "Find the eigenvectors\n",
        "![1.PNG.png](data:image/png;base64,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)"
      ],
      "metadata": {
        "id": "zOEhe5_gG6aG"
      }
    },
    {
      "cell_type": "code",
      "source": [
        "import numpy as np\n",
        "from numpy.linalg import eig\n",
        "A = np.array([[8,5,-6],[-12,-9,12],[-3,-3,5]])\n",
        "print(A,\"\\n\")\n",
        "w,v = np.linalg.eig(A) \n",
        "print(\"The eigenvalue/s is/are:\\n\",w.round(),\"\\n\")\n",
        "print(\"The eigenvector/s is/are:\\n\",v.round())"
      ],
      "metadata": {
        "id": "-0xNQFWxHGVp"
      },
      "execution_count": null,
      "outputs": []
    }
  ]
}