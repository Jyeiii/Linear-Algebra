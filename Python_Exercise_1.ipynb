{
  "nbformat": 4,
  "nbformat_minor": 0,
  "metadata": {
    "colab": {
      "name": "Python Exercise 1.ipynb",
      "private_outputs": true,
      "provenance": [],
      "authorship_tag": "ABX9TyPwTToTdUymUjUxZNjwe9v5",
      "include_colab_link": true
    },
    "kernelspec": {
      "name": "python3",
      "display_name": "Python 3"
    },
    "language_info": {
      "name": "python"
    }
  },
  "cells": [
    {
      "cell_type": "markdown",
      "metadata": {
        "id": "view-in-github",
        "colab_type": "text"
      },
      "source": [
        "<a href=\"https://colab.research.google.com/github/Jyeiii/Linear-Algebra/blob/main/Python_Exercise_1.ipynb\" target=\"_parent\"><img src=\"https://colab.research.google.com/assets/colab-badge.svg\" alt=\"Open In Colab\"/></a>"
      ]
    },
    {
      "cell_type": "markdown",
      "metadata": {
        "id": "LpDrycmfCmuZ"
      },
      "source": [
        "Matrix and Its Operations\n"
      ]
    },
    {
      "cell_type": "code",
      "metadata": {
        "id": "y6ya2kpj_Gzo"
      },
      "source": [
        "import numpy as np\n",
        "A = np.array([[-5,0],[4,1]]) \n",
        "B = np.array([[6,-3],[2,3]]) \n",
        "\n",
        "sum = np.add(A,B)\n",
        "\n",
        "print(\"Sum of A and B:\")\n",
        "print(sum)\n"
      ],
      "execution_count": null,
      "outputs": []
    },
    {
      "cell_type": "code",
      "metadata": {
        "id": "8BGatKxjCzmW"
      },
      "source": [
        "import numpy as np\n",
        "A = np.array([[-5,0],[4,1]]) \n",
        "B = np.array([[6,-3],[2,3]]) \n",
        "\n",
        "difference1 = np.subtract(A,B)\n",
        "print(\"\\nDifference of A and B:\")\n",
        "print(difference1)\n",
        "\n"
      ],
      "execution_count": null,
      "outputs": []
    },
    {
      "cell_type": "code",
      "metadata": {
        "id": "ysvDBQ797xSq"
      },
      "source": [
        "import numpy as np\n",
        "A = np.array([[-5,0],[4,1]]) \n",
        "B = np.array([[6,-3],[2,3]]) \n",
        "\n",
        "difference2 = np.subtract(B,A)\n",
        "print(\"\\nDifference of B and A:\")\n",
        "print(difference2)\n"
      ],
      "execution_count": null,
      "outputs": []
    }
  ]
}