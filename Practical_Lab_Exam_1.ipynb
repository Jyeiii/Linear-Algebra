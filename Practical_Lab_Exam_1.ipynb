{
  "nbformat": 4,
  "nbformat_minor": 0,
  "metadata": {
    "colab": {
      "name": "Practical Lab Exam 1.ipynb",
      "private_outputs": true,
      "provenance": [],
      "authorship_tag": "ABX9TyNbtJc+LAxllzDRkeJRSp5j",
      "include_colab_link": true
    },
    "kernelspec": {
      "name": "python3",
      "display_name": "Python 3"
    },
    "language_info": {
      "name": "python"
    }
  },
  "cells": [
    {
      "cell_type": "markdown",
      "metadata": {
        "id": "view-in-github",
        "colab_type": "text"
      },
      "source": [
        "<a href=\"https://colab.research.google.com/github/Jyeiii/Linear-Algebra/blob/main/Practical_Lab_Exam_1.ipynb\" target=\"_parent\"><img src=\"https://colab.research.google.com/assets/colab-badge.svg\" alt=\"Open In Colab\"/></a>"
      ]
    },
    {
      "cell_type": "code",
      "metadata": {
        "id": "KBF07Pf4rNry"
      },
      "source": [
        "import numpy as np\n",
        "\n",
        "A = np.array([[1,2,3],[4,5,6]])\n",
        "B = np.array([[1,2],[3,4],[5,6]])\n",
        "C = np.array([[1,2,3],[4,5,6],[7,8,9]])\n",
        "D = np.array([[1,2],[3,4]])\n",
        "\n",
        "dot = np.dot(A,B)\n",
        "sum = np.add(D,D)\n",
        "S = 2*C\n",
        "\n",
        "print(\"Problem 1 :\")\n",
        "print(\"A:\")\n",
        "print(dot)\n",
        "print(\"\\nB:\")\n",
        "print(sum)\n",
        "print(\"\\nC:\")\n",
        "print(S)"
      ],
      "execution_count": null,
      "outputs": []
    },
    {
      "cell_type": "code",
      "metadata": {
        "id": "dITijGYg0LVE"
      },
      "source": [
        "import numpy as np\n",
        "\n",
        "X = np.array([[5],[3],[-1]])\n",
        "\n",
        "print(\"problem 2:\")\n",
        "print(\"\\nType:\")\n",
        "print(type(X))\n",
        "print(\"\\nDimension:\")\n",
        "print(X.ndim)\n",
        "print(\"\\nShape:\")\n",
        "print(X.shape)"
      ],
      "execution_count": null,
      "outputs": []
    }
  ]
}