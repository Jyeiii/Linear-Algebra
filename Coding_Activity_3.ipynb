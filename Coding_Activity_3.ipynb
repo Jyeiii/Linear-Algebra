{
  "nbformat": 4,
  "nbformat_minor": 0,
  "metadata": {
    "colab": {
      "name": "Coding Activity 3.ipynb",
      "private_outputs": true,
      "provenance": [],
      "authorship_tag": "ABX9TyM8Z/PmkIVLDTwXJG8KZ+VM",
      "include_colab_link": true
    },
    "kernelspec": {
      "name": "python3",
      "display_name": "Python 3"
    },
    "language_info": {
      "name": "python"
    }
  },
  "cells": [
    {
      "cell_type": "markdown",
      "metadata": {
        "id": "view-in-github",
        "colab_type": "text"
      },
      "source": [
        "<a href=\"https://colab.research.google.com/github/Jyeiii/Linear-Algebra/blob/main/Coding_Activity_3.ipynb\" target=\"_parent\"><img src=\"https://colab.research.google.com/assets/colab-badge.svg\" alt=\"Open In Colab\"/></a>"
      ]
    },
    {
      "cell_type": "markdown",
      "source": [
        "Create a Numpy program that solves for the unkown variables of linear system:\n",
        "\n",
        "4x +10y+8z = 44\n",
        "\n",
        "10x+26y+26z = 128\n",
        "\n",
        "8x+26y+61z = 214"
      ],
      "metadata": {
        "id": "v3re9jR0C57L"
      }
    },
    {
      "cell_type": "code",
      "source": [
        "import numpy as np\n",
        "A = np.array([[4,10,8],[10,26,26],[8,26,61]])\n",
        "print(A)\n",
        "inv_A = np.linalg.inv(A)\n",
        "print(inv_A)"
      ],
      "metadata": {
        "id": "Yl90H0x5C_qC"
      },
      "execution_count": null,
      "outputs": []
    },
    {
      "cell_type": "code",
      "source": [
        "import numpy as np\n",
        "B = np.array([[44],[128],[214]])\n",
        "print(B)"
      ],
      "metadata": {
        "id": "4Z_l_fBnDAUd"
      },
      "execution_count": null,
      "outputs": []
    },
    {
      "cell_type": "code",
      "source": [
        "import numpy as np\n",
        "X = np.linalg.inv(A).dot(B)\n",
        "print(X)"
      ],
      "metadata": {
        "id": "_1KmeHOADAdE"
      },
      "execution_count": null,
      "outputs": []
    },
    {
      "cell_type": "code",
      "source": [
        "import numpy as np\n",
        "X = np.dot(inv_A,B)\n",
        "print(X)"
      ],
      "metadata": {
        "id": "Wz_y8LJMDC7E"
      },
      "execution_count": null,
      "outputs": []
    }
  ]
}