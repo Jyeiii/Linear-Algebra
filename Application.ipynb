{
  "nbformat": 4,
  "nbformat_minor": 0,
  "metadata": {
    "colab": {
      "name": "Application.ipynb",
      "private_outputs": true,
      "provenance": [],
      "authorship_tag": "ABX9TyMaUyCa/DF9TSPWr++nb3L8",
      "include_colab_link": true
    },
    "kernelspec": {
      "name": "python3",
      "display_name": "Python 3"
    },
    "language_info": {
      "name": "python"
    }
  },
  "cells": [
    {
      "cell_type": "markdown",
      "metadata": {
        "id": "view-in-github",
        "colab_type": "text"
      },
      "source": [
        "<a href=\"https://colab.research.google.com/github/Jyeiii/Linear-Algebra/blob/main/Application.ipynb\" target=\"_parent\"><img src=\"https://colab.research.google.com/assets/colab-badge.svg\" alt=\"Open In Colab\"/></a>"
      ]
    },
    {
      "cell_type": "markdown",
      "metadata": {
        "id": "IKTKiDxSGE9n"
      },
      "source": [
        "##**The price of one apple and one orange**##\n"
      ]
    },
    {
      "cell_type": "code",
      "metadata": {
        "id": "4VevGRqsHB3q"
      },
      "source": [
        "import numpy as np"
      ],
      "execution_count": null,
      "outputs": []
    },
    {
      "cell_type": "code",
      "metadata": {
        "id": "Y2hpWceHGLQI"
      },
      "source": [
        "A = np.array([[20,10],[17,22]])\n",
        "B = np.array([[350],[500]])\n",
        "print(A)\n",
        "print(B)"
      ],
      "execution_count": null,
      "outputs": []
    },
    {
      "cell_type": "code",
      "metadata": {
        "id": "UTM5-BuaJWIX"
      },
      "source": [
        "#other step on how to solve linear equations with NumPy and linalg.solve\n",
        "\n",
        "A = np.array([[20,10],[17,22]])\n",
        "B = np.array([[350],[500]])\n",
        "print(A)\n",
        "print(B)\n",
        "X = np.linalg.solve(A,B)\n",
        "print(X)"
      ],
      "execution_count": null,
      "outputs": []
    },
    {
      "cell_type": "code",
      "metadata": {
        "id": "qJaTEz7hKtdC"
      },
      "source": [
        "import numpy as np\n",
        "from scipy.linalg import solve #other option you can try using SciPy \n",
        "\n",
        "A = np.array([[20,10],[17,22]])\n",
        "B = np.array([[350],[500]])\n",
        "print(A)\n",
        "print(B)\n",
        "X = solve (A,B)\n",
        "print(X)"
      ],
      "execution_count": null,
      "outputs": []
    },
    {
      "cell_type": "code",
      "metadata": {
        "id": "Dv_Do1JuHKtt"
      },
      "source": [
        "inv_A = np.linalg.inv(A) #Inverse of A\n",
        "print(inv_A)\n",
        "X = np.linalg.inv(A).dot(B) #unknown values of determining the x and y\n",
        "print(X)"
      ],
      "execution_count": null,
      "outputs": []
    },
    {
      "cell_type": "code",
      "metadata": {
        "id": "tQmjx7d-H9-1"
      },
      "source": [
        "#other option that you can try\n",
        "\n",
        "X = np.dot(inv_A,B)\n",
        "print(X)"
      ],
      "execution_count": null,
      "outputs": []
    },
    {
      "cell_type": "markdown",
      "metadata": {
        "id": "Q_d0kyymLLY_"
      },
      "source": [
        "##**Solving for three linear equations with unknown variables of x, y, and z**##"
      ]
    },
    {
      "cell_type": "code",
      "metadata": {
        "id": "BiKWtbxhJIG0"
      },
      "source": [
        "#4x+3y+2z=25\n",
        "#-2z+2y+3z=-10\n",
        "#3x-5y+2x=-4\n",
        "\n",
        "A = np.array([[4,3,2],[-2,2,3],[3,-5,2]])\n",
        "print(A)\n",
        "B = np.array([[25],[-10],[-4]])\n",
        "print (B)\n",
        "X = solve(A,B) \n",
        "print(X)"
      ],
      "execution_count": null,
      "outputs": []
    }
  ]
}