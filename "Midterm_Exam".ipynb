{
  "nbformat": 4,
  "nbformat_minor": 0,
  "metadata": {
    "colab": {
      "name": "\"Midterm Exam\".ipynb",
      "private_outputs": true,
      "provenance": [],
      "authorship_tag": "ABX9TyNN+TSCJ7DTd8FdVlWAh9o8",
      "include_colab_link": true
    },
    "kernelspec": {
      "name": "python3",
      "display_name": "Python 3"
    },
    "language_info": {
      "name": "python"
    }
  },
  "cells": [
    {
      "cell_type": "markdown",
      "metadata": {
        "id": "view-in-github",
        "colab_type": "text"
      },
      "source": [
        "<a href=\"https://colab.research.google.com/github/Jyeiii/Linear-Algebra/blob/main/%22Midterm_Exam%22.ipynb\" target=\"_parent\"><img src=\"https://colab.research.google.com/assets/colab-badge.svg\" alt=\"Open In Colab\"/></a>"
      ]
    },
    {
      "cell_type": "markdown",
      "metadata": {
        "id": "_X_ixOkv34xQ"
      },
      "source": [
        "Question 1. Create a Python code that displays a square matrix whose length is 5 (10 points)"
      ]
    },
    {
      "cell_type": "code",
      "metadata": {
        "id": "7WOtejFU348O"
      },
      "source": [
        "import numpy as np\n",
        "s = (5,5)  \n",
        "a = np.zeros(s)\n",
        "print(\"\\nMatrix a : \\n\", a)"
      ],
      "execution_count": null,
      "outputs": []
    },
    {
      "cell_type": "markdown",
      "metadata": {
        "id": "lTy2o3Oa37Al"
      },
      "source": [
        "\n",
        "\n",
        "Question 2. Create a Python code that displays a square matrix whose elements below the principal diagonal are zero (10 points)\n",
        "\n"
      ]
    },
    {
      "cell_type": "code",
      "metadata": {
        "id": "aHnz6zRQ37MO"
      },
      "source": [
        "import numpy as np\n",
        "upper_triangular_matrix = np.array([[1,2,3],\n",
        "                                    [0,3,1],\n",
        "                                    [0,0,5]])\n",
        "print(upper_triangular_matrix)"
      ],
      "execution_count": null,
      "outputs": []
    },
    {
      "cell_type": "markdown",
      "metadata": {
        "id": "7yaKLi9H37Th"
      },
      "source": [
        "Question 3. Create a Python code that displays a square matrix which is symmetrical (10 points)\n",
        "\n"
      ]
    },
    {
      "cell_type": "code",
      "metadata": {
        "id": "hMsGm6n637bq"
      },
      "source": [
        "import numpy as np\n",
        "square_matrix = np.array([[11,12,13,14,15],[12,11,12,13,14],[13,12,11,12,13],[14,13,12,11,12],[15,14,13,12,11]])\n",
        "\n",
        "#Print a square matrix which symmetrical\n",
        "print('A square matrich which is symmetrical')\n",
        "print(square_matrix)"
      ],
      "execution_count": null,
      "outputs": []
    },
    {
      "cell_type": "markdown",
      "metadata": {
        "id": "z6WL8NPO37h3"
      },
      "source": [
        "Question 4. What is the inverse of matrix C? Show your solution by python coding. (20 points)\n",
        "\n"
      ]
    },
    {
      "cell_type": "code",
      "metadata": {
        "id": "bY7LcRYO37oo"
      },
      "source": [
        "import numpy as np\n",
        "C = np.array ([[1,2,3],[2,3,3],[3,4,-2]])\n",
        "\n",
        "invC = np.linalg.inv(C) #Inverse of Matrix C\n",
        "\n",
        "print(invC)"
      ],
      "execution_count": null,
      "outputs": []
    },
    {
      "cell_type": "markdown",
      "metadata": {
        "id": "QS76_esX37uQ"
      },
      "source": [
        "Question 5. What is the determinant of the given matrix in Question 4? Show your solution by python coding. (20 points)\n",
        "\n"
      ]
    },
    {
      "cell_type": "code",
      "metadata": {
        "id": "jSFrrx3X4Hus"
      },
      "source": [
        "import numpy as np\n",
        "C = np.array ([[1,2,3],[2,3,3],[3,4,-2]])\n",
        "\n",
        "detOfC = np.linalg.det(C)\n",
        "\n",
        "print(\"Determinant of the given matrix in Question 4:\")\n",
        "print(int(detOfC))"
      ],
      "execution_count": null,
      "outputs": []
    },
    {
      "cell_type": "markdown",
      "metadata": {
        "id": "2dOl83bY4H7i"
      },
      "source": [
        "Question 6. Find the roots of the linear equations by showing its python codes (30 points)\n",
        "\n",
        "5X1 + 4X2 + X3 = 3.4\n",
        "\n",
        "10X1 + 9X2 + 4X3 = 8.8\n",
        "\n",
        "10X1 + 13X2 + 15X3 = 19.2"
      ]
    },
    {
      "cell_type": "code",
      "metadata": {
        "id": "FxV_bpb24KDk"
      },
      "source": [
        "import numpy as np\n",
        "Equations = np.array([[5,4,1],\n",
        "                      [10,9,4],\n",
        "                      [10,13,15]])\n",
        "\n",
        "Constants = np.array([[[3.4],\n",
        "                       [8.8],\n",
        "                       [19.2]]])\n",
        "\n",
        "roots = np.linalg.inv(Equations) @ Constants\n",
        "\n",
        "print(roots)"
      ],
      "execution_count": null,
      "outputs": []
    }
  ]
}