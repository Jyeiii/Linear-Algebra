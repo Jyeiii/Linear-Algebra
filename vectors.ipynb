{
  "nbformat": 4,
  "nbformat_minor": 0,
  "metadata": {
    "colab": {
      "name": "vectors.ipynb",
      "private_outputs": true,
      "provenance": [],
      "authorship_tag": "ABX9TyORzd5QcnxiAxw2LsyomkRe",
      "include_colab_link": true
    },
    "kernelspec": {
      "name": "python3",
      "display_name": "Python 3"
    },
    "language_info": {
      "name": "python"
    }
  },
  "cells": [
    {
      "cell_type": "markdown",
      "metadata": {
        "id": "view-in-github",
        "colab_type": "text"
      },
      "source": [
        "<a href=\"https://colab.research.google.com/github/Jyeiii/Linear-Algebra/blob/main/vectors.ipynb\" target=\"_parent\"><img src=\"https://colab.research.google.com/assets/colab-badge.svg\" alt=\"Open In Colab\"/></a>"
      ]
    },
    {
      "cell_type": "code",
      "metadata": {
        "id": "G0x6vBBg3QHP"
      },
      "source": [
        "\n",
        "import  numpy as np\n",
        "b = np.array([[1,2,3],[4,5,6]]) #This is a 2x3 matrix\n",
        "print(b)\n"
      ],
      "execution_count": null,
      "outputs": []
    },
    {
      "cell_type": "markdown",
      "metadata": {
        "id": "B4TCDxFC07ar"
      },
      "source": [
        "Matrix Algebra\n"
      ]
    },
    {
      "cell_type": "code",
      "metadata": {
        "id": "ww5sOMNx0_lX"
      },
      "source": [
        "#numpy\n",
        "import  numpy as np\n",
        "a = np.array([1,2,3]) #This is example of 1x3 matrix\n",
        "print(a)\n"
      ],
      "execution_count": null,
      "outputs": []
    },
    {
      "cell_type": "code",
      "metadata": {
        "id": "043bsT-H2EeJ"
      },
      "source": [
        "\n",
        "import  numpy as np\n",
        "c = np.array([[1,2,3],[4,5,6],[7,8,9]]) #This is a 3x3 matrix\n",
        "print(c)\n"
      ],
      "execution_count": null,
      "outputs": []
    },
    {
      "cell_type": "code",
      "metadata": {
        "id": "1G_I1ZpG4C8F"
      },
      "source": [
        "import numpy as np\n",
        "f=np.eye(3)\n",
        "print(f)"
      ],
      "execution_count": null,
      "outputs": []
    },
    {
      "cell_type": "code",
      "metadata": {
        "id": "ZFR6_gFJ4Iyy"
      },
      "source": [
        "import numpy as np\n",
        "g = np.zeros((3,3))\n",
        "print(g)"
      ],
      "execution_count": null,
      "outputs": []
    },
    {
      "cell_type": "code",
      "metadata": {
        "id": "dVgixO2Z4xTL"
      },
      "source": [
        "import numpy as np\n",
        "d = np.full ((3,3),7)\n",
        "print(d)"
      ],
      "execution_count": null,
      "outputs": []
    }
  ]
}