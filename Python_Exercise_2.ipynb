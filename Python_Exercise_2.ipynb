{
  "nbformat": 4,
  "nbformat_minor": 0,
  "metadata": {
    "colab": {
      "name": "Python_Exercise_2.ipynb",
      "private_outputs": true,
      "provenance": [],
      "authorship_tag": "ABX9TyNQjnhwxzzwyqQqCTjVwT6+",
      "include_colab_link": true
    },
    "kernelspec": {
      "name": "python3",
      "display_name": "Python 3"
    },
    "language_info": {
      "name": "python"
    }
  },
  "cells": [
    {
      "cell_type": "markdown",
      "metadata": {
        "id": "view-in-github",
        "colab_type": "text"
      },
      "source": [
        "<a href=\"https://colab.research.google.com/github/Jyeiii/Linear-Algebra/blob/main/Python_Exercise_2.ipynb\" target=\"_parent\"><img src=\"https://colab.research.google.com/assets/colab-badge.svg\" alt=\"Open In Colab\"/></a>"
      ]
    },
    {
      "cell_type": "markdown",
      "metadata": {
        "id": "3iq8SmtX0aJT"
      },
      "source": [
        "**REPRESENTING VECTORS**"
      ]
    },
    {
      "cell_type": "code",
      "metadata": {
        "id": "6Mh6L6-_38mj"
      },
      "source": [
        "import numpy as np\n",
        "\n",
        "A = np.array ([4,3])\n",
        "B = np.array ([2,-5])\n",
        "\n",
        "print ('Vector A is', A)\n",
        "print ('Vector B is', B)"
      ],
      "execution_count": null,
      "outputs": []
    },
    {
      "cell_type": "markdown",
      "metadata": {
        "id": "EuA8iio_0XBb"
      },
      "source": [
        "**DESCRIBING VECTORS IN NumPy**"
      ]
    },
    {
      "cell_type": "code",
      "metadata": {
        "id": "obwganMK0Ygz"
      },
      "source": [
        "import numpy as np\n",
        "\n",
        "### checking shapes\n",
        "### shapes tells us how many rows and columns are there \n",
        "\n",
        "ball1 = np.array([1,2,3])\n",
        "ball2 = np.array([0,1,-1])\n",
        "\n",
        "pool = np.array([ball1,ball2])\n",
        "pool.shape \n",
        "pool.ndim ### dimension"
      ],
      "execution_count": null,
      "outputs": []
    },
    {
      "cell_type": "code",
      "metadata": {
        "id": "2sXU_ZlR0f9z"
      },
      "source": [
        "u = np.array([[1,2,3],[4,5,6]])\n",
        "u\n",
        "u.ndim\n",
        "u.size ### component in a matrix u"
      ],
      "execution_count": null,
      "outputs": []
    },
    {
      "cell_type": "markdown",
      "metadata": {
        "id": "kApc_1le0fo7"
      },
      "source": [
        "**SPACE**"
      ]
    },
    {
      "cell_type": "markdown",
      "metadata": {
        "id": "7rGy7m8G0jek"
      },
      "source": [
        "**Vector spaces are mathematical objects that abstractly capture the geometry and algebra of linear equations.**"
      ]
    },
    {
      "cell_type": "markdown",
      "metadata": {
        "id": "tdx2zguk0lq8"
      },
      "source": [
        "**Addition of vectors**"
      ]
    },
    {
      "cell_type": "code",
      "metadata": {
        "id": "QOKMpY5l0naT"
      },
      "source": [
        "addend1 = np.array([0,0,0])\n",
        "addend2 = np.array([1,1,0])\n",
        "sum = addend1 + addend2\n",
        "sum\n"
      ],
      "execution_count": null,
      "outputs": []
    },
    {
      "cell_type": "code",
      "metadata": {
        "id": "4bzRZR0V0pSL"
      },
      "source": [
        "addend1 = np.array([0,0,0])\n",
        "addend2 = np.array([1,1,0])\n",
        "resultant = np.add(addend1, addend2)\n",
        "resultant"
      ],
      "execution_count": null,
      "outputs": []
    },
    {
      "cell_type": "code",
      "metadata": {
        "id": "81LJAHqt0snz"
      },
      "source": [
        "#You will subtract the components of addend2 from addend1: addend1-addend2\n",
        "\n",
        "difference = addend1-addend2\n",
        "difference"
      ],
      "execution_count": null,
      "outputs": []
    },
    {
      "cell_type": "code",
      "metadata": {
        "id": "PxV6868U0uMr"
      },
      "source": [
        "difference2 = np.subtract(addend2,addend1)\n",
        "difference"
      ],
      "execution_count": null,
      "outputs": []
    },
    {
      "cell_type": "markdown",
      "metadata": {
        "id": "9fXPyOuw0vrz"
      },
      "source": [
        "**MULTIPLICATION OF VECTORS**"
      ]
    },
    {
      "cell_type": "markdown",
      "metadata": {
        "id": "QUpSSBkZ0yeT"
      },
      "source": [
        "Scaling"
      ]
    },
    {
      "cell_type": "code",
      "metadata": {
        "id": "10aPR9oY0xrS"
      },
      "source": [
        "A = np.array([1,5,8,9])\n",
        "S = 5*A\n",
        "S"
      ],
      "execution_count": null,
      "outputs": []
    },
    {
      "cell_type": "markdown",
      "metadata": {
        "id": "W-PZPZ2G02pD"
      },
      "source": [
        "**CROSS PRODUCT**"
      ]
    },
    {
      "cell_type": "code",
      "metadata": {
        "id": "_F3EQ8F501pc"
      },
      "source": [
        "import numpy as np\n",
        "\n",
        "#initialize arrays\n",
        "\n",
        "A = np.array([2,3])\n",
        "B = np.array ([1,7])\n",
        "\n",
        "#compute cross product\n",
        "\n",
        "output = np.cross(A,B)\n",
        "\n",
        "print (output)"
      ],
      "execution_count": null,
      "outputs": []
    }
  ]
}