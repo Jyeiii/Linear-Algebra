{
  "nbformat": 4,
  "nbformat_minor": 0,
  "metadata": {
    "colab": {
      "name": "Eigenvalue_and_Eigenvector.ipynb",
      "private_outputs": true,
      "provenance": [],
      "authorship_tag": "ABX9TyNJx3tiyTu3txY4xl0DzkRg",
      "include_colab_link": true
    },
    "kernelspec": {
      "name": "python3",
      "display_name": "Python 3"
    },
    "language_info": {
      "name": "python"
    }
  },
  "cells": [
    {
      "cell_type": "markdown",
      "metadata": {
        "id": "view-in-github",
        "colab_type": "text"
      },
      "source": [
        "<a href=\"https://colab.research.google.com/github/Jyeiii/Linear-Algebra/blob/main/Eigenvalue_and_Eigenvector.ipynb\" target=\"_parent\"><img src=\"https://colab.research.google.com/assets/colab-badge.svg\" alt=\"Open In Colab\"/></a>"
      ]
    },
    {
      "cell_type": "code",
      "execution_count": null,
      "metadata": {
        "id": "huTZQiDbPsi_"
      },
      "outputs": [],
      "source": [
        "import numpy as np #Import numpy lib\n",
        "from numpy.linalg import eig\n",
        "\n",
        "A = np.array([[-12,3],[4,1]]) #Create a 2x2 matrix A\n",
        "print(A) #Displays matrix A\n",
        "\n",
        "inv_A = np.linalg.inv(A) #Inverse of Matrix A\n",
        "print(inv_A) #Displays inverse of matrix A\n",
        "\n",
        "B = np.array([[0],[0]]) #Create a 2x2 matrix B\n",
        "print(B) #Displays matrix B\n",
        "\n",
        "X = np.dot(inv_A,B) #Dot product of inverse of matrix A and matrix B\n",
        "print(X) #Displays the dot product\n",
        "#X = solve(A,B)\n",
        "#print(X)"
      ]
    },
    {
      "cell_type": "markdown",
      "source": [
        "Example 1"
      ],
      "metadata": {
        "id": "CcNctP139qae"
      }
    },
    {
      "cell_type": "code",
      "source": [
        "A = np.array([[-6,3],[4,5]]) #Create a 2x2 matrix A\n",
        "print(A) #Displays matrix A\n",
        "\n",
        "w,v = np.linalg.eig(A)\n",
        "#Display the output\n",
        "print(\"The eigenvalue/s is/are:\",w)\n",
        "print(\"The right eigenvectors are:\",v)\n",
        "#x = v.round()\n",
        "#print(x)"
      ],
      "metadata": {
        "id": "-0_olNSp9ouW"
      },
      "execution_count": null,
      "outputs": []
    },
    {
      "cell_type": "markdown",
      "source": [
        "Example 2"
      ],
      "metadata": {
        "id": "2Br2Uxcm91g3"
      }
    },
    {
      "cell_type": "code",
      "source": [
        "A = np.array([[2,2,4],[1,3,5],[2,3,4]]) #Create a 3x3 matrix A\n",
        "print(A) #Displays matrix A\n",
        "s,t = np.linalg.eig(A)\n",
        "print(s.round())\n",
        "print(t.round())\n",
        "#Compute eigenvalues and right eigenvectors of a square array\n",
        "c = np.dot(A,t.round()) #dot product of A and t\n",
        "print(c) #Displays the final output"
      ],
      "metadata": {
        "id": "u5qZZ-jb91Ck"
      },
      "execution_count": null,
      "outputs": []
    }
  ]
}